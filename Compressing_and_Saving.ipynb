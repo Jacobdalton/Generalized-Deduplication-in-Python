{
 "cells": [
  {
   "cell_type": "code",
   "execution_count": 6,
   "metadata": {},
   "outputs": [],
   "source": [
    "import struct\n",
    "import numpy as np\n",
    "import os\n",
    "import sys\n",
    "import matplotlib.pyplot as plt\n",
    "import struct\n",
    "from scipy.stats import norm, kurtosis, stats\n",
    "\n",
    "from helpFunctions import *\n",
    "\n",
    "#----------\n",
    "path = \"C:\\\\Kandidat\\\\R&D\\\\Generalized-Deduplication-in-Python\\\\Bearing Data\"\n",
    "path_npz = \"C:\\\\Kandidat\\\\R&D\\\\Generalized-Deduplication-in-Python\\\\CompressedData\"\n",
    "\n",
    "np.set_printoptions(suppress=True)          # Suppress scientific notation"
   ]
  },
  {
   "cell_type": "code",
   "execution_count": 7,
   "metadata": {},
   "outputs": [
    {
     "name": "stdout",
     "output_type": "stream",
     "text": [
      "20\n",
      "hoco-dek3kas1-m2_sensor2_2020-07-10_07-24-21.npz\n",
      "hoco-dek3kas1-m2_sensor2_2020-07-10_08-24-43.npz\n",
      "hoco-dek3kas1-m2_sensor2_2020-07-10_09-25-09.npz\n",
      "1500000\n",
      "0.0190719\n",
      "<class 'list'>\n",
      "0.0190719\n",
      "1500000\n",
      "<class 'numpy.ndarray'>\n",
      "{'machine_id': 'hoco-dek3kas1-m2', 'sensor_id': 'sensor2', 'timestamp': 1594373109370, 'sensor_type': ' VSA', 'rpm': 2198.69, 'sample_frequency': 50000.0}\n"
     ]
    }
   ],
   "source": [
    "from os import listdir\n",
    "from os.path import isfile, join\n",
    "onlyfiles = [f for f in listdir(path) if isfile(join(path, f))]\n",
    "print(len(onlyfiles))\n",
    "dataa = list()\n",
    "for index in onlyfiles[0:3]:                        #Currently loads 3 data chunks aka 1.5million values\n",
    "    header, data = loadData(os.path.join(path, index))\n",
    "    dataa.extend(data)\n",
    "    print(index)\n",
    "d_og = dataa.copy()"
   ]
  },
  {
   "cell_type": "code",
   "execution_count": 9,
   "metadata": {},
   "outputs": [
    {
     "name": "stdout",
     "output_type": "stream",
     "text": [
      "<class 'numpy.float64'>\n",
      "1500000\n"
     ]
    }
   ],
   "source": [
    "print(type(d_og[1499999]))\n",
    "print(len(d_og))\n",
    "#del listsofBases, listsofCounts, listsofData, data, dataa, header, index, onlyfiles, testere"
   ]
  },
  {
   "cell_type": "code",
   "execution_count": 11,
   "metadata": {},
   "outputs": [
    {
     "name": "stdout",
     "output_type": "stream",
     "text": [
      "LOOP :0\n"
     ]
    },
    {
     "ename": "KeyboardInterrupt",
     "evalue": "",
     "output_type": "error",
     "traceback": [
      "\u001b[1;31m---------------------------------------------------------------------------\u001b[0m",
      "\u001b[1;31mKeyboardInterrupt\u001b[0m                         Traceback (most recent call last)",
      "\u001b[1;32mc:\\Kandidat\\R&D\\Generalized-Deduplication-in-Python\\Compressing_and_Saving.ipynb Cell 4'\u001b[0m in \u001b[0;36m<cell line: 4>\u001b[1;34m()\u001b[0m\n\u001b[0;32m      <a href='vscode-notebook-cell:/c%3A/Kandidat/R%26D/Generalized-Deduplication-in-Python/Compressing_and_Saving.ipynb#ch0000003?line=1'>2</a>\u001b[0m listsofBases \u001b[39m=\u001b[39m \u001b[39mlist\u001b[39m()\n\u001b[0;32m      <a href='vscode-notebook-cell:/c%3A/Kandidat/R%26D/Generalized-Deduplication-in-Python/Compressing_and_Saving.ipynb#ch0000003?line=2'>3</a>\u001b[0m listsofCounts \u001b[39m=\u001b[39m \u001b[39mlist\u001b[39m()\n\u001b[1;32m----> <a href='vscode-notebook-cell:/c%3A/Kandidat/R%26D/Generalized-Deduplication-in-Python/Compressing_and_Saving.ipynb#ch0000003?line=3'>4</a>\u001b[0m listsofData, listsofBases, listsofCounts \u001b[39m=\u001b[39m Compressor_Meta_lists(d_og)\n",
      "File \u001b[1;32mc:\\Kandidat\\R&D\\Generalized-Deduplication-in-Python\\helpFunctions.py:340\u001b[0m, in \u001b[0;36mCompressor_Meta_lists\u001b[1;34m(f)\u001b[0m\n\u001b[0;32m    338\u001b[0m temp_data\u001b[39m.\u001b[39mappend(np\u001b[39m.\u001b[39mfloat64(bin_to_float(base)))\n\u001b[0;32m    339\u001b[0m \u001b[39mif\u001b[39;00m base \u001b[39mnot\u001b[39;00m \u001b[39min\u001b[39;00m temp_base:\n\u001b[1;32m--> 340\u001b[0m     temp_base\u001b[39m.\u001b[39;49mappend(base)\n\u001b[0;32m    341\u001b[0m     temp_counts\u001b[39m.\u001b[39mappend([\u001b[39m\"\u001b[39m\u001b[39mID: \u001b[39m\u001b[39m\"\u001b[39m\u001b[39m+\u001b[39m\u001b[39mstr\u001b[39m(baseCounter), \u001b[39m1\u001b[39m, \u001b[39m\"\u001b[39m\u001b[39mdeviations bits : \u001b[39m\u001b[39m\"\u001b[39m\u001b[39m+\u001b[39m\u001b[39mstr\u001b[39m(idx)])\n\u001b[0;32m    342\u001b[0m     baseCounter \u001b[39m+\u001b[39m\u001b[39m=\u001b[39m \u001b[39m1\u001b[39m\n",
      "\u001b[1;31mKeyboardInterrupt\u001b[0m: "
     ]
    }
   ],
   "source": [
    "listsofData = list()\n",
    "listsofBases = list()\n",
    "listsofCounts = list()\n",
    "listsofData, listsofBases, listsofCounts = Compressor_Meta_lists(d_og)"
   ]
  },
  {
   "cell_type": "code",
   "execution_count": 17,
   "metadata": {},
   "outputs": [],
   "source": [
    "for Saver in range(0,len(listsofBases)):\n",
    "    if os.path.exists(os.path.join(path_npz,'Deviation_bits'+str(Saver)+'.npz')) == False:\n",
    "        file_name = 'Deviation_bits'+str(Saver)\n",
    "        np.savez( os.path.join(path_npz, file_name), Compressed_Data=listsofData[Saver], Bases = listsofBases[Saver], Counts = listsofCounts[Saver] )\n",
    "        print('Deviation_bits '+str(Saver)+' Created<<') \n",
    "    else:\n",
    "        pass\n",
    "        "
   ]
  },
  {
   "cell_type": "code",
   "execution_count": null,
   "metadata": {},
   "outputs": [],
   "source": [
    "def Compressor_Meta_lists(f):                              # Compress data and return 0-32 devations\n",
    "    results_Data        = list()\n",
    "    # results_Deviations  = list()\n",
    "    results_Bases       = list()\n",
    "    results_Counts      = list()\n",
    "    temp_data           = list()\n",
    "    temp_base           = list()\n",
    "    temp_counts         = list()\n",
    "    for idx in range(0,33):\n",
    "        temp_data.clear(); temp_base.clear(); temp_counts.clear(); baseCounter = 0\n",
    "        print(\"LOOP :\"+str(idx))\n",
    "\n",
    "        for c in range(0,len(f)):\n",
    "            binary = float_to_bin(f[c])\n",
    "            if idx == 0:\n",
    "                base = binary[:-1-idx] + \"0\"                                # if deviation bits 0 dont multiply by 0\n",
    "            else:\n",
    "                base = binary[:0-idx] + \"0\" * idx                           # Assemple new stored value\n",
    "            #tempFlip = binary[-1:-index-1:(-1)]                            # Read thru bits from behind, used to gather deviation bits\n",
    "            #cDeviation = tempFlip[::-1]                                    # Flip found deviation bits, ready to be concatanated to cBase\n",
    "            temp_data.append(np.float64(bin_to_float(base)))\n",
    "            if base not in temp_base:\n",
    "                temp_base.append(base)\n",
    "                temp_counts.append([\"ID: \"+str(baseCounter), 1, \"deviations bits : \"+str(idx)])\n",
    "                baseCounter += 1\n",
    "            else:\n",
    "                temp_counts[temp_base.index(base)][1] += 1\n",
    "            if c == len(f)-1:\n",
    "                results_Data.append(temp_data[:])\n",
    "                results_Bases.append(temp_base[:])\n",
    "                results_Counts.append(temp_counts[:])\n",
    "                print(\"SAVE\")\n",
    "\n",
    "    return results_Data, results_Bases, results_Counts"
   ]
  }
 ],
 "metadata": {
  "interpreter": {
   "hash": "034aa796501165ff470139b973cd0d1f997f93f161a48cbac655da4a3310d7a6"
  },
  "kernelspec": {
   "display_name": "Python 3.9.12 64-bit (windows store)",
   "language": "python",
   "name": "python3"
  },
  "language_info": {
   "codemirror_mode": {
    "name": "ipython",
    "version": 3
   },
   "file_extension": ".py",
   "mimetype": "text/x-python",
   "name": "python",
   "nbconvert_exporter": "python",
   "pygments_lexer": "ipython3",
   "version": "3.9.13"
  },
  "orig_nbformat": 4
 },
 "nbformat": 4,
 "nbformat_minor": 2
}
